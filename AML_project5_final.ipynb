{
  "nbformat": 4,
  "nbformat_minor": 0,
  "metadata": {
    "colab": {
      "provenance": [],
      "gpuType": "T4"
    },
    "kernelspec": {
      "name": "python3",
      "display_name": "Python 3"
    },
    "language_info": {
      "name": "python"
    },
    "accelerator": "GPU"
  },
  "cells": [
    {
      "cell_type": "code",
      "execution_count": 1,
      "metadata": {
        "colab": {
          "base_uri": "https://localhost:8080/"
        },
        "id": "LJWAahjjNdsI",
        "outputId": "fae61b18-ac26-4fe4-a8a7-749e11c6ebc3"
      },
      "outputs": [
        {
          "output_type": "stream",
          "name": "stdout",
          "text": [
            "2.3.0+cu121\n"
          ]
        }
      ],
      "source": [
        "import torch\n",
        "print(torch.__version__)"
      ]
    },
    {
      "cell_type": "code",
      "source": [
        "# install minimal requirements\n",
        "!pip install timm==0.5.4 wandb tqdm h5py==3.6.0 protobuf==3.20.1 lmdb==1.2.1 pi  scikit-learn"
      ],
      "metadata": {
        "id": "k_t0CzYwNgC3"
      },
      "execution_count": null,
      "outputs": []
    },
    {
      "cell_type": "code",
      "source": [
        "# Additional libraries\n",
        "!pip install --upgrade https://github.com/unlimblue/KNN_CUDA/releases/download/0.2/KNN_CUDA-0.2-py3-none-any.whl\n",
        "!pip install ninja"
      ],
      "metadata": {
        "id": "GcnthPc1NhOF"
      },
      "execution_count": null,
      "outputs": []
    },
    {
      "cell_type": "code",
      "source": [
        "!pip install msgpack_numpy"
      ],
      "metadata": {
        "id": "1EtgbbnXNiq5"
      },
      "execution_count": null,
      "outputs": []
    },
    {
      "cell_type": "code",
      "source": [
        "!git clone https://github.com/AML-3DSND-23-24/SemNov_AML_DAAI_23-24"
      ],
      "metadata": {
        "id": "aiQZDEs1NkIa"
      },
      "execution_count": null,
      "outputs": []
    },
    {
      "cell_type": "code",
      "source": [
        "%cd /content/SemNov_AML_DAAI_23-24/\n",
        "!sh download_data.sh"
      ],
      "metadata": {
        "id": "mtqJYsNRNoiC"
      },
      "execution_count": null,
      "outputs": []
    },
    {
      "cell_type": "markdown",
      "source": [
        "# API KEY for W&B\n",
        "\n",
        "## 3f2bbcd644491933cd56409af6c7b6bbb3218306"
      ],
      "metadata": {
        "id": "UNuBPb2qQX6J"
      }
    },
    {
      "cell_type": "code",
      "source": [
        "# Training a DGCNN classifier (Synth->Real)\n",
        "%cd /content/SemNov_AML_DAAI_23-24/\n",
        "!python classifiers/trainer_cla_md.py --config cfgs/dgcnn-cla.yaml --exp_name DGCNN_CE_SR1 --src SR1 --loss CE --epochs 200 --wandb_proj AML_DAAI_proj23_24"
      ],
      "metadata": {
        "id": "YWlcr6iNQGb6"
      },
      "execution_count": null,
      "outputs": []
    },
    {
      "cell_type": "code",
      "source": [
        "# evaluation routine\n",
        "%cd /content/SemNov_AML_DAAI_23-24/\n",
        "!python classifiers/trainer_cla_md.py --aggregate True --config cfgs/dgcnn-cla.yaml --exp_name DGCNN_CE_SR1 --src SR1 --loss CE \\\n",
        "    -mode eval --ckpt_path outputs/DGCNN_CE_SR1/models/model_best.pth"
      ],
      "metadata": {
        "id": "sXje1RBWWsou"
      },
      "execution_count": null,
      "outputs": []
    },
    {
      "cell_type": "code",
      "source": [
        "# Training a PN2++ classifier (Synth->Real)\n",
        "%cd /content/SemNov_AML_DAAI_23-24/\n",
        "!python classifiers/trainer_cla_md.py --config cfgs/pn2-msg.yaml --exp_name PN2_CE_SR1 --src SR1 --epochs 200 --loss CE --wandb_proj AML_DAAI_proj23_24 --batch_size 32"
      ],
      "metadata": {
        "id": "HyMz6qwtaN3T"
      },
      "execution_count": null,
      "outputs": []
    },
    {
      "cell_type": "code",
      "source": [
        "# evaluation routine\n",
        "%cd /content/SemNov_AML_DAAI_23-24/\n",
        "!python classifiers/trainer_cla_md.py --aggregate True --config cfgs/pn2-msg.yaml --exp_name PN2_CE_SR1 --src SR1 --loss CE -mode eval --ckpt_path outputs/PN2_CE_SR1/models/model_last.pth"
      ],
      "metadata": {
        "id": "ULlXTwp5ac-w"
      },
      "execution_count": null,
      "outputs": []
    },
    {
      "cell_type": "markdown",
      "source": [
        "# OPENSHAPE"
      ],
      "metadata": {
        "id": "oAlM4Ar9mQt3"
      }
    },
    {
      "cell_type": "code",
      "source": [
        "!pip install  dgl -f https://data.dgl.ai/wheels/repo.html\n",
        "!pip install  dglgo -f https://data.dgl.ai/wheels-test/repo.html"
      ],
      "metadata": {
        "id": "fHgeL-N6mS7J"
      },
      "execution_count": null,
      "outputs": []
    },
    {
      "cell_type": "code",
      "source": [
        "!pip install torch.redstone einops huggingface_hub"
      ],
      "metadata": {
        "id": "AVdtuYQ1mWRZ"
      },
      "execution_count": null,
      "outputs": []
    },
    {
      "cell_type": "code",
      "source": [
        "%cd /content/SemNov_AML_DAAI_23-24/\n",
        "!git clone https://huggingface.co/OpenShape/openshape-demo-support"
      ],
      "metadata": {
        "id": "ku5qU4aIm5bK"
      },
      "execution_count": null,
      "outputs": []
    },
    {
      "cell_type": "code",
      "source": [
        "%cd /content/SemNov_AML_DAAI_23-24/openshape-demo-support\n",
        "!pip install -e ."
      ],
      "metadata": {
        "id": "NF1Gu1lwnSp2"
      },
      "execution_count": null,
      "outputs": []
    },
    {
      "cell_type": "markdown",
      "source": [
        "## DROP dgl.geometry IMPORT ON LINE 6 AND COMMENT LINE 72 OF /content/SemNov_AML_DAAI_23-24/openshape-demo-support/openshape/pointnet_util.py BEFORE LAUNCH"
      ],
      "metadata": {
        "id": "UmEMDpFmncOc"
      }
    },
    {
      "cell_type": "code",
      "source": [
        "# evaluating routine for OpenShape model\n",
        "%cd /content/SemNov_AML_DAAI_23-24/\n",
        "!python classifiers/trainer_cla_md.py --openshape True --config cfgs/openshape.yaml --exp_name OS_CE_SR1 --src SR1 --loss CE -mode eval --ckpt_path outputs/OS_CE_SR1/models/model_last.pth"
      ],
      "metadata": {
        "id": "U2809CzmniAi"
      },
      "execution_count": null,
      "outputs": []
    }
  ]
}